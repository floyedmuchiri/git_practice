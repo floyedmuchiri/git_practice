{
  "nbformat": 4,
  "nbformat_minor": 0,
  "metadata": {
    "colab": {
      "provenance": [],
      "authorship_tag": "ABX9TyPJE0bbcXZsnYGW6BDu2aOC",
      "include_colab_link": true
    },
    "kernelspec": {
      "name": "python3",
      "display_name": "Python 3"
    },
    "language_info": {
      "name": "python"
    }
  },
  "cells": [
    {
      "cell_type": "markdown",
      "metadata": {
        "id": "view-in-github",
        "colab_type": "text"
      },
      "source": [
        "<a href=\"https://colab.research.google.com/github/floyedmuchiri/git_practice/blob/main/data_manipulation.ipynb\" target=\"_parent\"><img src=\"https://colab.research.google.com/assets/colab-badge.svg\" alt=\"Open In Colab\"/></a>"
      ]
    },
    {
      "cell_type": "code",
      "execution_count": 1,
      "metadata": {
        "colab": {
          "base_uri": "https://localhost:8080/"
        },
        "id": "SBjhMHBuLDjB",
        "outputId": "c18b6164-75ea-4eb6-8a50-f5b4f604df8d"
      },
      "outputs": [
        {
          "output_type": "execute_result",
          "data": {
            "text/plain": [
              "list"
            ]
          },
          "metadata": {},
          "execution_count": 1
        }
      ],
      "source": [
        "info_table = [\n",
        "    {\"color\": \"green\", \"number\": 7},\n",
        "    {\"color\": \"red\", \"number\": 2},\n",
        "    {\"color\": \"orange\", \"number\": 1}\n",
        "]\n",
        "\n",
        "type(info_table)"
      ]
    },
    {
      "cell_type": "code",
      "source": [
        "import pandas as pd\n",
        "\n",
        "df = pd.DataFrame(info_table)\n",
        "print(df['color'])"
      ],
      "metadata": {
        "colab": {
          "base_uri": "https://localhost:8080/"
        },
        "id": "pdTZRYdOLetk",
        "outputId": "bed941c5-c961-4d82-c64b-81edbf48c3f1"
      },
      "execution_count": 7,
      "outputs": [
        {
          "output_type": "stream",
          "name": "stdout",
          "text": [
            "0     green\n",
            "1       red\n",
            "2    orange\n",
            "Name: color, dtype: object\n"
          ]
        }
      ]
    },
    {
      "cell_type": "code",
      "source": [
        "import csv\n",
        "import json"
      ],
      "metadata": {
        "id": "soC8ORFcL5oM"
      },
      "execution_count": 12,
      "outputs": []
    },
    {
      "cell_type": "code",
      "source": [
        "info_table.extend(['yellow']) = 8"
      ],
      "metadata": {
        "colab": {
          "base_uri": "https://localhost:8080/",
          "height": 106
        },
        "id": "34JTvKovPd0o",
        "outputId": "ab41f561-0ecb-49b9-d7d7-52743a0dad1f"
      },
      "execution_count": 22,
      "outputs": [
        {
          "output_type": "error",
          "ename": "SyntaxError",
          "evalue": "cannot assign to function call here. Maybe you meant '==' instead of '='? (<ipython-input-22-b312e44c0556>, line 1)",
          "traceback": [
            "\u001b[0;36m  File \u001b[0;32m\"<ipython-input-22-b312e44c0556>\"\u001b[0;36m, line \u001b[0;32m1\u001b[0m\n\u001b[0;31m    info_table.extend(['yellow']) = 8\u001b[0m\n\u001b[0m    ^\u001b[0m\n\u001b[0;31mSyntaxError\u001b[0m\u001b[0;31m:\u001b[0m cannot assign to function call here. Maybe you meant '==' instead of '='?\n"
          ]
        }
      ]
    },
    {
      "cell_type": "code",
      "source": [
        "primes = [2,3,4,5,7,2,9]"
      ],
      "metadata": {
        "id": "QgtQNyKNRcL3"
      },
      "execution_count": 23,
      "outputs": []
    },
    {
      "cell_type": "code",
      "source": [
        "doubleprimes = [x*2 for x in primes]\n",
        "doubleprimes"
      ],
      "metadata": {
        "colab": {
          "base_uri": "https://localhost:8080/"
        },
        "id": "SFBsbkqjSzUT",
        "outputId": "87da2af7-d537-4875-9e48-8678d3b53b11"
      },
      "execution_count": 24,
      "outputs": [
        {
          "output_type": "execute_result",
          "data": {
            "text/plain": [
              "[4, 6, 8, 10, 14, 4, 18]"
            ]
          },
          "metadata": {},
          "execution_count": 24
        }
      ]
    },
    {
      "cell_type": "markdown",
      "source": [],
      "metadata": {
        "id": "bZYOf1EFTOI_"
      }
    },
    {
      "cell_type": "code",
      "source": [
        "doubleprimes = [x*2 for x in primes if x>4]\n",
        "doubleprimes"
      ],
      "metadata": {
        "colab": {
          "base_uri": "https://localhost:8080/"
        },
        "id": "MXzfQtxATAVn",
        "outputId": "7d7038f0-ed87-4683-9478-ddb091bde589"
      },
      "execution_count": 26,
      "outputs": [
        {
          "output_type": "execute_result",
          "data": {
            "text/plain": [
              "[10, 14, 18]"
            ]
          },
          "metadata": {},
          "execution_count": 26
        }
      ]
    },
    {
      "cell_type": "code",
      "source": [
        "mydict = dict(zip(range(5), 'aeiou'))\n",
        "mydict"
      ],
      "metadata": {
        "colab": {
          "base_uri": "https://localhost:8080/"
        },
        "id": "xIozF0qATNLI",
        "outputId": "1ca2883d-cfd8-402e-b202-c0ef1925c66c"
      },
      "execution_count": 30,
      "outputs": [
        {
          "output_type": "execute_result",
          "data": {
            "text/plain": [
              "{0: 'a', 1: 'e', 2: 'i', 3: 'o', 4: 'u'}"
            ]
          },
          "metadata": {},
          "execution_count": 30
        }
      ]
    },
    {
      "cell_type": "code",
      "source": [
        "[v for k, v in mydict.items() if k % 4 ==0]"
      ],
      "metadata": {
        "colab": {
          "base_uri": "https://localhost:8080/"
        },
        "id": "QAy6Z8ypUO2q",
        "outputId": "6c0c28d8-7b8f-48be-eca6-4c6b09d0321b"
      },
      "execution_count": 33,
      "outputs": [
        {
          "output_type": "execute_result",
          "data": {
            "text/plain": [
              "['a', 'u']"
            ]
          },
          "metadata": {},
          "execution_count": 33
        }
      ]
    },
    {
      "cell_type": "code",
      "source": [
        "nums = set(range(1000))"
      ],
      "metadata": {
        "id": "ofqybdwLV_cB"
      },
      "execution_count": 1,
      "outputs": []
    },
    {
      "cell_type": "code",
      "source": [
        "oddnums = [x for x in nums if x % 2 ==1]\n",
        "oddnums"
      ],
      "metadata": {
        "colab": {
          "base_uri": "https://localhost:8080/"
        },
        "collapsed": true,
        "id": "5Qalv08e9ts9",
        "outputId": "2e32dcbb-4560-4746-aec2-5dfe6b70ceaa"
      },
      "execution_count": 2,
      "outputs": [
        {
          "output_type": "execute_result",
          "data": {
            "text/plain": [
              "[1,\n",
              " 3,\n",
              " 5,\n",
              " 7,\n",
              " 9,\n",
              " 11,\n",
              " 13,\n",
              " 15,\n",
              " 17,\n",
              " 19,\n",
              " 21,\n",
              " 23,\n",
              " 25,\n",
              " 27,\n",
              " 29,\n",
              " 31,\n",
              " 33,\n",
              " 35,\n",
              " 37,\n",
              " 39,\n",
              " 41,\n",
              " 43,\n",
              " 45,\n",
              " 47,\n",
              " 49,\n",
              " 51,\n",
              " 53,\n",
              " 55,\n",
              " 57,\n",
              " 59,\n",
              " 61,\n",
              " 63,\n",
              " 65,\n",
              " 67,\n",
              " 69,\n",
              " 71,\n",
              " 73,\n",
              " 75,\n",
              " 77,\n",
              " 79,\n",
              " 81,\n",
              " 83,\n",
              " 85,\n",
              " 87,\n",
              " 89,\n",
              " 91,\n",
              " 93,\n",
              " 95,\n",
              " 97,\n",
              " 99,\n",
              " 101,\n",
              " 103,\n",
              " 105,\n",
              " 107,\n",
              " 109,\n",
              " 111,\n",
              " 113,\n",
              " 115,\n",
              " 117,\n",
              " 119,\n",
              " 121,\n",
              " 123,\n",
              " 125,\n",
              " 127,\n",
              " 129,\n",
              " 131,\n",
              " 133,\n",
              " 135,\n",
              " 137,\n",
              " 139,\n",
              " 141,\n",
              " 143,\n",
              " 145,\n",
              " 147,\n",
              " 149,\n",
              " 151,\n",
              " 153,\n",
              " 155,\n",
              " 157,\n",
              " 159,\n",
              " 161,\n",
              " 163,\n",
              " 165,\n",
              " 167,\n",
              " 169,\n",
              " 171,\n",
              " 173,\n",
              " 175,\n",
              " 177,\n",
              " 179,\n",
              " 181,\n",
              " 183,\n",
              " 185,\n",
              " 187,\n",
              " 189,\n",
              " 191,\n",
              " 193,\n",
              " 195,\n",
              " 197,\n",
              " 199,\n",
              " 201,\n",
              " 203,\n",
              " 205,\n",
              " 207,\n",
              " 209,\n",
              " 211,\n",
              " 213,\n",
              " 215,\n",
              " 217,\n",
              " 219,\n",
              " 221,\n",
              " 223,\n",
              " 225,\n",
              " 227,\n",
              " 229,\n",
              " 231,\n",
              " 233,\n",
              " 235,\n",
              " 237,\n",
              " 239,\n",
              " 241,\n",
              " 243,\n",
              " 245,\n",
              " 247,\n",
              " 249,\n",
              " 251,\n",
              " 253,\n",
              " 255,\n",
              " 257,\n",
              " 259,\n",
              " 261,\n",
              " 263,\n",
              " 265,\n",
              " 267,\n",
              " 269,\n",
              " 271,\n",
              " 273,\n",
              " 275,\n",
              " 277,\n",
              " 279,\n",
              " 281,\n",
              " 283,\n",
              " 285,\n",
              " 287,\n",
              " 289,\n",
              " 291,\n",
              " 293,\n",
              " 295,\n",
              " 297,\n",
              " 299,\n",
              " 301,\n",
              " 303,\n",
              " 305,\n",
              " 307,\n",
              " 309,\n",
              " 311,\n",
              " 313,\n",
              " 315,\n",
              " 317,\n",
              " 319,\n",
              " 321,\n",
              " 323,\n",
              " 325,\n",
              " 327,\n",
              " 329,\n",
              " 331,\n",
              " 333,\n",
              " 335,\n",
              " 337,\n",
              " 339,\n",
              " 341,\n",
              " 343,\n",
              " 345,\n",
              " 347,\n",
              " 349,\n",
              " 351,\n",
              " 353,\n",
              " 355,\n",
              " 357,\n",
              " 359,\n",
              " 361,\n",
              " 363,\n",
              " 365,\n",
              " 367,\n",
              " 369,\n",
              " 371,\n",
              " 373,\n",
              " 375,\n",
              " 377,\n",
              " 379,\n",
              " 381,\n",
              " 383,\n",
              " 385,\n",
              " 387,\n",
              " 389,\n",
              " 391,\n",
              " 393,\n",
              " 395,\n",
              " 397,\n",
              " 399,\n",
              " 401,\n",
              " 403,\n",
              " 405,\n",
              " 407,\n",
              " 409,\n",
              " 411,\n",
              " 413,\n",
              " 415,\n",
              " 417,\n",
              " 419,\n",
              " 421,\n",
              " 423,\n",
              " 425,\n",
              " 427,\n",
              " 429,\n",
              " 431,\n",
              " 433,\n",
              " 435,\n",
              " 437,\n",
              " 439,\n",
              " 441,\n",
              " 443,\n",
              " 445,\n",
              " 447,\n",
              " 449,\n",
              " 451,\n",
              " 453,\n",
              " 455,\n",
              " 457,\n",
              " 459,\n",
              " 461,\n",
              " 463,\n",
              " 465,\n",
              " 467,\n",
              " 469,\n",
              " 471,\n",
              " 473,\n",
              " 475,\n",
              " 477,\n",
              " 479,\n",
              " 481,\n",
              " 483,\n",
              " 485,\n",
              " 487,\n",
              " 489,\n",
              " 491,\n",
              " 493,\n",
              " 495,\n",
              " 497,\n",
              " 499,\n",
              " 501,\n",
              " 503,\n",
              " 505,\n",
              " 507,\n",
              " 509,\n",
              " 511,\n",
              " 513,\n",
              " 515,\n",
              " 517,\n",
              " 519,\n",
              " 521,\n",
              " 523,\n",
              " 525,\n",
              " 527,\n",
              " 529,\n",
              " 531,\n",
              " 533,\n",
              " 535,\n",
              " 537,\n",
              " 539,\n",
              " 541,\n",
              " 543,\n",
              " 545,\n",
              " 547,\n",
              " 549,\n",
              " 551,\n",
              " 553,\n",
              " 555,\n",
              " 557,\n",
              " 559,\n",
              " 561,\n",
              " 563,\n",
              " 565,\n",
              " 567,\n",
              " 569,\n",
              " 571,\n",
              " 573,\n",
              " 575,\n",
              " 577,\n",
              " 579,\n",
              " 581,\n",
              " 583,\n",
              " 585,\n",
              " 587,\n",
              " 589,\n",
              " 591,\n",
              " 593,\n",
              " 595,\n",
              " 597,\n",
              " 599,\n",
              " 601,\n",
              " 603,\n",
              " 605,\n",
              " 607,\n",
              " 609,\n",
              " 611,\n",
              " 613,\n",
              " 615,\n",
              " 617,\n",
              " 619,\n",
              " 621,\n",
              " 623,\n",
              " 625,\n",
              " 627,\n",
              " 629,\n",
              " 631,\n",
              " 633,\n",
              " 635,\n",
              " 637,\n",
              " 639,\n",
              " 641,\n",
              " 643,\n",
              " 645,\n",
              " 647,\n",
              " 649,\n",
              " 651,\n",
              " 653,\n",
              " 655,\n",
              " 657,\n",
              " 659,\n",
              " 661,\n",
              " 663,\n",
              " 665,\n",
              " 667,\n",
              " 669,\n",
              " 671,\n",
              " 673,\n",
              " 675,\n",
              " 677,\n",
              " 679,\n",
              " 681,\n",
              " 683,\n",
              " 685,\n",
              " 687,\n",
              " 689,\n",
              " 691,\n",
              " 693,\n",
              " 695,\n",
              " 697,\n",
              " 699,\n",
              " 701,\n",
              " 703,\n",
              " 705,\n",
              " 707,\n",
              " 709,\n",
              " 711,\n",
              " 713,\n",
              " 715,\n",
              " 717,\n",
              " 719,\n",
              " 721,\n",
              " 723,\n",
              " 725,\n",
              " 727,\n",
              " 729,\n",
              " 731,\n",
              " 733,\n",
              " 735,\n",
              " 737,\n",
              " 739,\n",
              " 741,\n",
              " 743,\n",
              " 745,\n",
              " 747,\n",
              " 749,\n",
              " 751,\n",
              " 753,\n",
              " 755,\n",
              " 757,\n",
              " 759,\n",
              " 761,\n",
              " 763,\n",
              " 765,\n",
              " 767,\n",
              " 769,\n",
              " 771,\n",
              " 773,\n",
              " 775,\n",
              " 777,\n",
              " 779,\n",
              " 781,\n",
              " 783,\n",
              " 785,\n",
              " 787,\n",
              " 789,\n",
              " 791,\n",
              " 793,\n",
              " 795,\n",
              " 797,\n",
              " 799,\n",
              " 801,\n",
              " 803,\n",
              " 805,\n",
              " 807,\n",
              " 809,\n",
              " 811,\n",
              " 813,\n",
              " 815,\n",
              " 817,\n",
              " 819,\n",
              " 821,\n",
              " 823,\n",
              " 825,\n",
              " 827,\n",
              " 829,\n",
              " 831,\n",
              " 833,\n",
              " 835,\n",
              " 837,\n",
              " 839,\n",
              " 841,\n",
              " 843,\n",
              " 845,\n",
              " 847,\n",
              " 849,\n",
              " 851,\n",
              " 853,\n",
              " 855,\n",
              " 857,\n",
              " 859,\n",
              " 861,\n",
              " 863,\n",
              " 865,\n",
              " 867,\n",
              " 869,\n",
              " 871,\n",
              " 873,\n",
              " 875,\n",
              " 877,\n",
              " 879,\n",
              " 881,\n",
              " 883,\n",
              " 885,\n",
              " 887,\n",
              " 889,\n",
              " 891,\n",
              " 893,\n",
              " 895,\n",
              " 897,\n",
              " 899,\n",
              " 901,\n",
              " 903,\n",
              " 905,\n",
              " 907,\n",
              " 909,\n",
              " 911,\n",
              " 913,\n",
              " 915,\n",
              " 917,\n",
              " 919,\n",
              " 921,\n",
              " 923,\n",
              " 925,\n",
              " 927,\n",
              " 929,\n",
              " 931,\n",
              " 933,\n",
              " 935,\n",
              " 937,\n",
              " 939,\n",
              " 941,\n",
              " 943,\n",
              " 945,\n",
              " 947,\n",
              " 949,\n",
              " 951,\n",
              " 953,\n",
              " 955,\n",
              " 957,\n",
              " 959,\n",
              " 961,\n",
              " 963,\n",
              " 965,\n",
              " 967,\n",
              " 969,\n",
              " 971,\n",
              " 973,\n",
              " 975,\n",
              " 977,\n",
              " 979,\n",
              " 981,\n",
              " 983,\n",
              " 985,\n",
              " 987,\n",
              " 989,\n",
              " 991,\n",
              " 993,\n",
              " 995,\n",
              " 997,\n",
              " 999]"
            ]
          },
          "metadata": {},
          "execution_count": 2
        }
      ]
    },
    {
      "cell_type": "code",
      "source": [
        "names =['floyed muchiri', 'hellen murungi', 'kim baariu', 'mugendi peter']\n",
        "\n",
        "splits = [name.split() for name in names]\n",
        "splits"
      ],
      "metadata": {
        "colab": {
          "base_uri": "https://localhost:8080/"
        },
        "id": "-vbb0euh97Hw",
        "outputId": "137d5bd0-d01c-4999-f035-e6d907f64d55"
      },
      "execution_count": 5,
      "outputs": [
        {
          "output_type": "execute_result",
          "data": {
            "text/plain": [
              "[['floyed', 'muchiri'],\n",
              " ['hellen', 'murungi'],\n",
              " ['kim', 'baariu'],\n",
              " ['mugendi', 'peter']]"
            ]
          },
          "metadata": {},
          "execution_count": 5
        }
      ]
    },
    {
      "cell_type": "code",
      "source": [
        "innitials = [name1[0]+\".\"+name2[0] for (name1, name2) in splits]\n",
        "innitials"
      ],
      "metadata": {
        "colab": {
          "base_uri": "https://localhost:8080/"
        },
        "id": "YaHvxCw--jI5",
        "outputId": "dde1acaf-5bf4-4c98-c472-4bbe230ac038"
      },
      "execution_count": 15,
      "outputs": [
        {
          "output_type": "execute_result",
          "data": {
            "text/plain": [
              "['f.m', 'h.m', 'k.b', 'm.p']"
            ]
          },
          "metadata": {},
          "execution_count": 15
        }
      ]
    },
    {
      "cell_type": "code",
      "source": [
        "st = [name[0] for name in names]"
      ],
      "metadata": {
        "colab": {
          "base_uri": "https://localhost:8080/"
        },
        "id": "c3SvLNSd_QBh",
        "outputId": "536064d4-cbd6-480e-8063-fdbebaab3d52"
      },
      "execution_count": 18,
      "outputs": [
        {
          "output_type": "execute_result",
          "data": {
            "text/plain": [
              "['f', 'h', 'k', 'm']"
            ]
          },
          "metadata": {},
          "execution_count": 18
        }
      ]
    },
    {
      "cell_type": "code",
      "source": [
        "std = [name for name in names if name[0] == 'k']\n",
        "std"
      ],
      "metadata": {
        "colab": {
          "base_uri": "https://localhost:8080/"
        },
        "id": "Y0eTzSXxEo-Q",
        "outputId": "5609f74e-6870-42b5-efa2-240ed2ee7cec"
      },
      "execution_count": 24,
      "outputs": [
        {
          "output_type": "execute_result",
          "data": {
            "text/plain": [
              "['kim baariu']"
            ]
          },
          "metadata": {},
          "execution_count": 24
        }
      ]
    },
    {
      "cell_type": "code",
      "source": [
        "leaders = {'chair': 'Kim',\n",
        "'sec': 'abraham',\n",
        "'cord': 'floyed',\n",
        "'treasurer': 'wycliff'}\n",
        "\n",
        "leaders"
      ],
      "metadata": {
        "colab": {
          "base_uri": "https://localhost:8080/"
        },
        "id": "SUygkrqrEwFJ",
        "outputId": "22cf6e8d-4558-4ca4-fa41-f89627e47d00"
      },
      "execution_count": 25,
      "outputs": [
        {
          "output_type": "execute_result",
          "data": {
            "text/plain": [
              "{'chair': 'Kim', 'sec': 'abraham', 'cord': 'floyed', 'treasurer': 'wycliff'}"
            ]
          },
          "metadata": {},
          "execution_count": 25
        }
      ]
    },
    {
      "cell_type": "code",
      "source": [
        "leaders.items()"
      ],
      "metadata": {
        "colab": {
          "base_uri": "https://localhost:8080/"
        },
        "id": "ztgMMqfJG_zQ",
        "outputId": "b20ff20d-b743-4734-ca6b-4ae0c8f85d20"
      },
      "execution_count": 26,
      "outputs": [
        {
          "output_type": "execute_result",
          "data": {
            "text/plain": [
              "dict_items([('chair', 'Kim'), ('sec', 'abraham'), ('cord', 'floyed'), ('treasurer', 'wycliff')])"
            ]
          },
          "metadata": {},
          "execution_count": 26
        }
      ]
    },
    {
      "cell_type": "code",
      "source": [
        "{k: v + '!' for k, v in leaders.items() if k.startswith('c')}"
      ],
      "metadata": {
        "colab": {
          "base_uri": "https://localhost:8080/"
        },
        "id": "t7-0RkhqIAtU",
        "outputId": "51b497ba-2c8c-45e1-c8cc-502fcb6d4de0"
      },
      "execution_count": 27,
      "outputs": [
        {
          "output_type": "execute_result",
          "data": {
            "text/plain": [
              "{'chair': 'Kim!', 'cord': 'floyed!'}"
            ]
          },
          "metadata": {},
          "execution_count": 27
        }
      ]
    },
    {
      "cell_type": "code",
      "source": [
        "{k: v + '!' for k, v in leaders.items() if k.startswith('c')}"
      ],
      "metadata": {
        "colab": {
          "base_uri": "https://localhost:8080/"
        },
        "id": "286FdrYjTmbB",
        "outputId": "8b1e3a0a-5e47-44bc-e900-530e1bb7ac2d"
      },
      "execution_count": 29,
      "outputs": [
        {
          "output_type": "execute_result",
          "data": {
            "text/plain": [
              "{'chair': 'Kim!', 'cord': 'floyed!'}"
            ]
          },
          "metadata": {},
          "execution_count": 29
        }
      ]
    },
    {
      "cell_type": "code",
      "source": [
        "{k**2: v**2 for k, v in [(1, 2), (3, 4), (5, 6)]}"
      ],
      "metadata": {
        "colab": {
          "base_uri": "https://localhost:8080/"
        },
        "id": "JvMKPYlIT77_",
        "outputId": "f9318a32-bea2-492e-ddf5-1808302d500f"
      },
      "execution_count": 34,
      "outputs": [
        {
          "output_type": "execute_result",
          "data": {
            "text/plain": [
              "{1: 4, 9: 16, 25: 36}"
            ]
          },
          "metadata": {},
          "execution_count": 34
        }
      ]
    },
    {
      "cell_type": "code",
      "source": [
        "#using zip\n",
        "\n",
        "dict(zip(range(5), ['apple', 'banana', 'melon', 'mango', 'orange']))"
      ],
      "metadata": {
        "colab": {
          "base_uri": "https://localhost:8080/"
        },
        "id": "PHN19MAuUzVz",
        "outputId": "2703985a-3d5c-4166-9366-8195f3053d80"
      },
      "execution_count": 35,
      "outputs": [
        {
          "output_type": "execute_result",
          "data": {
            "text/plain": [
              "{0: 'apple', 1: 'banana', 2: 'melon', 3: 'mango', 4: 'orange'}"
            ]
          },
          "metadata": {},
          "execution_count": 35
        }
      ]
    },
    {
      "cell_type": "code",
      "source": [
        "{k:v for k, v in zip(range(5), range(1, 10, 2))}"
      ],
      "metadata": {
        "colab": {
          "base_uri": "https://localhost:8080/"
        },
        "id": "kLttd0gfV08K",
        "outputId": "123e9e76-660b-4309-f46b-1e631a526cc1"
      },
      "execution_count": 36,
      "outputs": [
        {
          "output_type": "execute_result",
          "data": {
            "text/plain": [
              "{0: 1, 1: 3, 2: 5, 3: 7, 4: 9}"
            ]
          },
          "metadata": {},
          "execution_count": 36
        }
      ]
    },
    {
      "cell_type": "code",
      "source": [
        "scores = ['3:2', '5:1', '1:3']\n",
        "\n",
        "{'team'+ str(j+1): scores[j] for j in range(3)}"
      ],
      "metadata": {
        "colab": {
          "base_uri": "https://localhost:8080/"
        },
        "id": "lDX_LQiuWlL_",
        "outputId": "41bb47fc-a7f5-4f01-aee9-e3c562ce2e07"
      },
      "execution_count": 40,
      "outputs": [
        {
          "output_type": "execute_result",
          "data": {
            "text/plain": [
              "{'team1': '3:2', 'team2': '5:1', 'team3': '1:3'}"
            ]
          },
          "metadata": {},
          "execution_count": 40
        }
      ]
    },
    {
      "cell_type": "code",
      "source": [
        "list1 = ['USA', 'France', 'Canada', 'Thailand']\n",
        "list2 = ['New York', 'Paris', 'Ottawa', 'Bankok']\n",
        "\n",
        "{k:v for k, v in zip(list1, list2)}"
      ],
      "metadata": {
        "colab": {
          "base_uri": "https://localhost:8080/"
        },
        "id": "4p4Ntnb8XSnH",
        "outputId": "491e1256-368f-4cbe-ebe9-53def1a7fb10"
      },
      "execution_count": 43,
      "outputs": [
        {
          "output_type": "execute_result",
          "data": {
            "text/plain": [
              "{'USA': 'New York',\n",
              " 'France': 'Paris',\n",
              " 'Canada': 'Ottawa',\n",
              " 'Thailand': 'Bankok'}"
            ]
          },
          "metadata": {},
          "execution_count": 43
        }
      ]
    },
    {
      "cell_type": "code",
      "source": [
        "chars = ['USA', 'France', 'Canada', 'Thailand']\n",
        "{k:v for k, v in zip(range(4), chars)}"
      ],
      "metadata": {
        "colab": {
          "base_uri": "https://localhost:8080/"
        },
        "id": "bRTAUqnRYyV3",
        "outputId": "892d921a-7813-4590-8840-e35e5a1f3046"
      },
      "execution_count": 45,
      "outputs": [
        {
          "output_type": "execute_result",
          "data": {
            "text/plain": [
              "{0: 'USA', 1: 'France', 2: 'Canada', 3: 'Thailand'}"
            ]
          },
          "metadata": {},
          "execution_count": 45
        }
      ]
    },
    {
      "cell_type": "code",
      "source": [
        "phone_nos = [{'name': 'gregs', 'nums':{'home': 11111, 'work': 12212}},\n",
        "              {'name': 'max', 'nums':{'home': 22222, 'work': 232323}},\n",
        "               {'name': 'erin', 'nums':{'home': 333333, 'work': 343434}},\n",
        "                {'name': 'joel', 'nums':{'home': 444444, 'work': 45454545}},\n",
        "                 {'name': 'sean', 'nums':{'home': 555555, 'work': 56565656}}]"
      ],
      "metadata": {
        "id": "_zkZBaxdZs7y"
      },
      "execution_count": 52,
      "outputs": []
    },
    {
      "cell_type": "code",
      "source": [
        "#ex 1 from list above, make a list of dict where key is the perosns name and value is persons home number"
      ],
      "metadata": {
        "colab": {
          "base_uri": "https://localhost:8080/"
        },
        "id": "7MzCfjn4dPQ9",
        "outputId": "7d9fe723-987b-42cc-b134-5f403afd9f55"
      },
      "execution_count": 56,
      "outputs": [
        {
          "output_type": "execute_result",
          "data": {
            "text/plain": [
              "{'name': 'gregs', 'nums': {'home': 11111, 'work': 12212}}"
            ]
          },
          "metadata": {},
          "execution_count": 56
        }
      ]
    },
    {
      "cell_type": "code",
      "source": [
        "details = []\n",
        "for detail in phone_nos:\n",
        "\n",
        "details"
      ],
      "metadata": {
        "colab": {
          "base_uri": "https://localhost:8080/",
          "height": 211
        },
        "id": "_BOCt9_DeQXz",
        "outputId": "9c878116-5d0d-42bb-b3ce-09108b782ef2"
      },
      "execution_count": 75,
      "outputs": [
        {
          "output_type": "error",
          "ename": "ValueError",
          "evalue": "too many values to unpack (expected 2)",
          "traceback": [
            "\u001b[0;31m---------------------------------------------------------------------------\u001b[0m",
            "\u001b[0;31mValueError\u001b[0m                                Traceback (most recent call last)",
            "\u001b[0;32m<ipython-input-75-88d7ae87c856>\u001b[0m in \u001b[0;36m<cell line: 2>\u001b[0;34m()\u001b[0m\n\u001b[1;32m      1\u001b[0m \u001b[0mdetails\u001b[0m \u001b[0;34m=\u001b[0m \u001b[0;34m[\u001b[0m\u001b[0;34m]\u001b[0m\u001b[0;34m\u001b[0m\u001b[0;34m\u001b[0m\u001b[0m\n\u001b[1;32m      2\u001b[0m \u001b[0;32mfor\u001b[0m \u001b[0mdetail\u001b[0m \u001b[0;32min\u001b[0m \u001b[0mphone_nos\u001b[0m\u001b[0;34m:\u001b[0m\u001b[0;34m\u001b[0m\u001b[0;34m\u001b[0m\u001b[0m\n\u001b[0;32m----> 3\u001b[0;31m   \u001b[0;32mfor\u001b[0m \u001b[0mx\u001b[0m\u001b[0;34m,\u001b[0m \u001b[0my\u001b[0m \u001b[0;32min\u001b[0m \u001b[0mdetail\u001b[0m\u001b[0;34m:\u001b[0m\u001b[0;34m\u001b[0m\u001b[0;34m\u001b[0m\u001b[0m\n\u001b[0m\u001b[1;32m      4\u001b[0m     \u001b[0mdetails\u001b[0m\u001b[0;34m[\u001b[0m\u001b[0mx\u001b[0m\u001b[0;34m]\u001b[0m \u001b[0;34m=\u001b[0m \u001b[0;34m'mine'\u001b[0m\u001b[0;34m\u001b[0m\u001b[0;34m\u001b[0m\u001b[0m\n\u001b[1;32m      5\u001b[0m \u001b[0mdetails\u001b[0m\u001b[0;34m\u001b[0m\u001b[0;34m\u001b[0m\u001b[0m\n",
            "\u001b[0;31mValueError\u001b[0m: too many values to unpack (expected 2)"
          ]
        }
      ]
    },
    {
      "cell_type": "code",
      "source": [
        "#fxn to find how many times a numb er can be divided by 2\n",
        "\n",
        "def factors_of_two(num):\n",
        "  counter = 0\n",
        "  while num % 2 == 0:\n",
        "    num /= 2 #( short for num = num/2))\n",
        "    counter += 1\n",
        "  return counter"
      ],
      "metadata": {
        "id": "Ejtlq7UUfpVG"
      },
      "execution_count": 63,
      "outputs": []
    },
    {
      "cell_type": "code",
      "source": [
        "factors_of_two(4)"
      ],
      "metadata": {
        "colab": {
          "base_uri": "https://localhost:8080/"
        },
        "id": "tOnsnW7liUkE",
        "outputId": "12b19f52-2cf1-4ce0-c147-c34d04374bea"
      },
      "execution_count": 65,
      "outputs": [
        {
          "output_type": "execute_result",
          "data": {
            "text/plain": [
              "2"
            ]
          },
          "metadata": {},
          "execution_count": 65
        }
      ]
    },
    {
      "cell_type": "code",
      "source": [],
      "metadata": {
        "id": "HbwLS2DLimb7"
      },
      "execution_count": null,
      "outputs": []
    }
  ]
}